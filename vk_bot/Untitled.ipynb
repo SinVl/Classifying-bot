{
 "cells": [
  {
   "cell_type": "code",
   "execution_count": 1,
   "metadata": {},
   "outputs": [],
   "source": [
    "import vk_api\n",
    "from vk_api.longpoll import VkLongPoll, VkEventType"
   ]
  },
  {
   "cell_type": "code",
   "execution_count": 2,
   "metadata": {},
   "outputs": [],
   "source": [
    "vk_session = vk_api.VkApi(token=\"b939db0fe67b70767cb7ef3c975612de09980d1bd62a87ccfe992eb6879a6bbde8b747947c2e9be93fb8e\")"
   ]
  },
  {
   "cell_type": "code",
   "execution_count": 3,
   "metadata": {},
   "outputs": [],
   "source": [
    "longpoll = VkLongPoll(vk_session, preload_messages=True)\n",
    "vk = vk_session.get_api()"
   ]
  },
  {
   "cell_type": "code",
   "execution_count": 4,
   "metadata": {},
   "outputs": [],
   "source": [
    "hello_messages = [\"Привет\",\"Хай\",\"Здорова\",\"Как сам?\",\"Hi\"]\n",
    "hello_text = \"Привет. Хочешь немного магии от Искусственного Интелекта? Тогда отправляй мне любую фотку и жди дальнейших иструкций)))\""
   ]
  },
  {
   "cell_type": "code",
   "execution_count": 24,
   "metadata": {},
   "outputs": [],
   "source": [
    "keys_photo = [\"photo_75\",\"photo_130\",\"photo_604\",\"photo_807\",\"photo_1280\",\"photo_2560\"]\n",
    "num_attaches = 2;\n",
    "file_names = [\"content.jpg\",\"style.jpg\"]"
   ]
  },
  {
   "cell_type": "code",
   "execution_count": 32,
   "metadata": {},
   "outputs": [],
   "source": [
    "users = {}"
   ]
  },
  {
   "cell_type": "code",
   "execution_count": 34,
   "metadata": {
    "scrolled": true
   },
   "outputs": [
    {
     "name": "stdout",
     "output_type": "stream",
     "text": [
      "{'id': 246, 'date': 1550085341, 'out': 0, 'user_id': 35858093, 'read_state': 0, 'title': '', 'body': '', 'attachments': [{'type': 'photo', 'photo': {'id': 456240622, 'album_id': -3, 'owner_id': 35858093, 'photo_75': 'https://pp.userapi.com/c848628/v848628323/12a4f6/tbt4RvEyp1E.jpg', 'photo_130': 'https://pp.userapi.com/c848628/v848628323/12a4f7/WFbBARLKBTU.jpg', 'photo_604': 'https://pp.userapi.com/c848628/v848628323/12a4f8/n4a374To4Cc.jpg', 'photo_807': 'https://pp.userapi.com/c848628/v848628323/12a4f9/Pb5caKEAKT8.jpg', 'photo_1280': 'https://sun3-4.userapi.com/c848628/v848628323/12a4fa/-F_di_fcvJ0.jpg', 'width': 720, 'height': 960, 'text': '', 'date': 1550085341, 'access_key': '4fba8cfee73dd5cbaf'}}]}\n",
      "{'id': 250, 'date': 1550085356, 'out': 0, 'user_id': 35858093, 'read_state': 0, 'title': '', 'body': '', 'attachments': [{'type': 'photo', 'photo': {'id': 456240623, 'album_id': -3, 'owner_id': 35858093, 'photo_75': 'https://pp.userapi.com/c850624/v850624564/bc7e9/_9acQqv1mJQ.jpg', 'photo_130': 'https://pp.userapi.com/c850624/v850624564/bc7ea/-og7Pg5NVYM.jpg', 'photo_604': 'https://pp.userapi.com/c850624/v850624564/bc7eb/5pPm8LrohrY.jpg', 'photo_807': 'https://pp.userapi.com/c850624/v850624564/bc7ec/jM1_nxBsOtA.jpg', 'photo_1280': 'https://pp.userapi.com/c850624/v850624564/bc7ed/6m_FIDH0OS4.jpg', 'width': 720, 'height': 960, 'text': '', 'date': 1550085355, 'access_key': 'ad1e5a870cc60881ce'}}]}\n"
     ]
    },
    {
     "name": "stderr",
     "output_type": "stream",
     "text": [
      "\n",
      "KeyboardInterrupt\n",
      "\n"
     ]
    }
   ],
   "source": [
    "for event in longpoll.listen():\n",
    "    if event.type == VkEventType.MESSAGE_NEW and event.to_me and event.text:\n",
    "        if(event.text in hello_messages):\n",
    "            vk.messages.send(user_id = event.user_id, message = hello_text)\n",
    "            for event in longpoll.listen():\n",
    "                if event.type == VkEventType.MESSAGE_NEW and event.to_me and event.attachments:\n",
    "                    #longpoll.preload_message_events_data(event);\n",
    "                    print(event.message_data)\n",
    "                    url = \"\"\n",
    "                    count_attach = 0;\n",
    "                    for attach in event.message_data['attachments']:\n",
    "                        for key, val in attach['photo'].items():\n",
    "                            if(key in keys_photo):\n",
    "                                url = val\n",
    "                        urllib.request.urlretrieve(url, file_names[count_attach])\n",
    "                        count_attach+=1\n",
    "                        if(count_attach>=num_attaches):\n",
    "                            break\n",
    "                    \n",
    "                    vk.messages.send(user_id = event.user_id, message = \"Спасибо Бро :) \\nТеперь подожди немного и ты увидишь магию.\")\n",
    "                    if users.setdefault(event.user_id) is not None :\n",
    "                        users[event.user_id] += 1\n",
    "                    else:\n",
    "                        users[event.user_id] = 1\n",
    "                    break"
   ]
  },
  {
   "cell_type": "code",
   "execution_count": 35,
   "metadata": {},
   "outputs": [
    {
     "data": {
      "text/plain": [
       "{35858093: 2}"
      ]
     },
     "execution_count": 35,
     "metadata": {},
     "output_type": "execute_result"
    }
   ],
   "source": [
    "users"
   ]
  },
  {
   "cell_type": "code",
   "execution_count": 56,
   "metadata": {},
   "outputs": [
    {
     "ename": "ApiError",
     "evalue": "[5] User authorization failed: method is unavailable with group auth.",
     "output_type": "error",
     "traceback": [
      "\u001b[1;31m---------------------------------------------------------------------------\u001b[0m",
      "\u001b[1;31mApiError\u001b[0m                                  Traceback (most recent call last)",
      "\u001b[1;32m<ipython-input-56-f660dc950344>\u001b[0m in \u001b[0;36m<module>\u001b[1;34m()\u001b[0m\n\u001b[1;32m----> 1\u001b[1;33m \u001b[0mvk\u001b[0m\u001b[1;33m.\u001b[0m\u001b[0mmethod\u001b[0m\u001b[1;33m(\u001b[0m\u001b[0mmethod\u001b[0m \u001b[1;33m=\u001b[0m \u001b[1;34m\"photos.getById\"\u001b[0m\u001b[1;33m,\u001b[0m \u001b[0mvalues\u001b[0m \u001b[1;33m=\u001b[0m \u001b[1;33m{\u001b[0m\u001b[1;34m'photos'\u001b[0m \u001b[1;33m:\u001b[0m \u001b[1;34m\"35858093_456239686\"\u001b[0m\u001b[1;33m}\u001b[0m\u001b[1;33m)\u001b[0m\u001b[1;33m\u001b[0m\u001b[0m\n\u001b[0m",
      "\u001b[1;32m~\\Anaconda3\\lib\\site-packages\\vk_api\\vk_api.py\u001b[0m in \u001b[0;36m__call__\u001b[1;34m(self, **kwargs)\u001b[0m\n\u001b[0;32m    650\u001b[0m \u001b[1;33m\u001b[0m\u001b[0m\n\u001b[0;32m    651\u001b[0m     \u001b[1;32mdef\u001b[0m \u001b[0m__call__\u001b[0m\u001b[1;33m(\u001b[0m\u001b[0mself\u001b[0m\u001b[1;33m,\u001b[0m \u001b[1;33m**\u001b[0m\u001b[0mkwargs\u001b[0m\u001b[1;33m)\u001b[0m\u001b[1;33m:\u001b[0m\u001b[1;33m\u001b[0m\u001b[0m\n\u001b[1;32m--> 652\u001b[1;33m         \u001b[1;32mreturn\u001b[0m \u001b[0mself\u001b[0m\u001b[1;33m.\u001b[0m\u001b[0m_vk\u001b[0m\u001b[1;33m.\u001b[0m\u001b[0mmethod\u001b[0m\u001b[1;33m(\u001b[0m\u001b[0mself\u001b[0m\u001b[1;33m.\u001b[0m\u001b[0m_method\u001b[0m\u001b[1;33m,\u001b[0m \u001b[0mkwargs\u001b[0m\u001b[1;33m)\u001b[0m\u001b[1;33m\u001b[0m\u001b[0m\n\u001b[0m",
      "\u001b[1;32m~\\Anaconda3\\lib\\site-packages\\vk_api\\vk_api.py\u001b[0m in \u001b[0;36mmethod\u001b[1;34m(self, method, values, captcha_sid, captcha_key, raw)\u001b[0m\n\u001b[0;32m    619\u001b[0m                     \u001b[1;32mreturn\u001b[0m \u001b[0mresponse\u001b[0m\u001b[1;33m\u001b[0m\u001b[0m\n\u001b[0;32m    620\u001b[0m \u001b[1;33m\u001b[0m\u001b[0m\n\u001b[1;32m--> 621\u001b[1;33m             \u001b[1;32mraise\u001b[0m \u001b[0merror\u001b[0m\u001b[1;33m\u001b[0m\u001b[0m\n\u001b[0m\u001b[0;32m    622\u001b[0m \u001b[1;33m\u001b[0m\u001b[0m\n\u001b[0;32m    623\u001b[0m         \u001b[1;32mreturn\u001b[0m \u001b[0mresponse\u001b[0m \u001b[1;32mif\u001b[0m \u001b[0mraw\u001b[0m \u001b[1;32melse\u001b[0m \u001b[0mresponse\u001b[0m\u001b[1;33m[\u001b[0m\u001b[1;34m'response'\u001b[0m\u001b[1;33m]\u001b[0m\u001b[1;33m\u001b[0m\u001b[0m\n",
      "\u001b[1;31mApiError\u001b[0m: [5] User authorization failed: method is unavailable with group auth."
     ]
    }
   ],
   "source": [
    "vk.method(method = \"photos.getById\", values = {'photos' : \"35858093_456239686\"})\n",
    "\n",
    "attachments = vk.messages.getHistoryAttachments(peer_id = event.user_id, group_id = \"169790054\", media_type =\"photo\", count = 2, photo_sizes = 0)['items']\n",
    "                    print(attachments)\n",
    "                    url = attachments[0]['attachment']['photo']['photo_807']"
   ]
  },
  {
   "cell_type": "code",
   "execution_count": 77,
   "metadata": {},
   "outputs": [
    {
     "data": {
      "text/plain": [
       "{'items': [{'message_id': 95,\n",
       "   'attachment': {'type': 'photo',\n",
       "    'photo': {'id': 456239995,\n",
       "     'album_id': -15,\n",
       "     'owner_id': 35858093,\n",
       "     'photo_75': 'https://pp.userapi.com/c624825/v624825223/4f4b5/2WFEfkY6bi8.jpg',\n",
       "     'photo_130': 'https://pp.userapi.com/c624825/v624825223/4f4b6/qVc1T1-lLEI.jpg',\n",
       "     'photo_604': 'https://pp.userapi.com/c624825/v624825223/4f4b7/sW6tQw_l_Eo.jpg',\n",
       "     'photo_807': 'https://pp.userapi.com/c624825/v624825223/4f4b8/InBxPLPExfM.jpg',\n",
       "     'photo_1280': 'https://pp.userapi.com/c624825/v624825223/4f4b9/fUjglM_EJYU.jpg',\n",
       "     'width': 1200,\n",
       "     'height': 800,\n",
       "     'text': '',\n",
       "     'date': 1519475052,\n",
       "     'access_key': '15312f1de9ab1740fe'}}},\n",
       "  {'message_id': 71,\n",
       "   'attachment': {'type': 'photo',\n",
       "    'photo': {'id': 456240577,\n",
       "     'album_id': -3,\n",
       "     'owner_id': 35858093,\n",
       "     'photo_75': 'https://pp.userapi.com/c846020/v846020328/19de96/q7nk16_xtJw.jpg',\n",
       "     'photo_130': 'https://pp.userapi.com/c846020/v846020328/19de97/0n4vz8dCvnU.jpg',\n",
       "     'photo_604': 'https://pp.userapi.com/c846020/v846020328/19de98/SavofiaIqJs.jpg',\n",
       "     'photo_807': 'https://pp.userapi.com/c846020/v846020328/19de99/bh09Ef-tHQQ.jpg',\n",
       "     'photo_1280': 'https://pp.userapi.com/c846020/v846020328/19de9a/WRzTkpKBwPA.jpg',\n",
       "     'width': 720,\n",
       "     'height': 960,\n",
       "     'text': '',\n",
       "     'date': 1550038372,\n",
       "     'access_key': 'f2a13960d8f0c5653d'}}}],\n",
       " 'next_from': '71/1'}"
      ]
     },
     "execution_count": 77,
     "metadata": {},
     "output_type": "execute_result"
    }
   ],
   "source": [
    "vk.messages.getHistoryAttachments(peer_id = \"35858093\", group_id = \"169790054\", media_type =\"photo\", count = 2, photo_sizes = 0)"
   ]
  },
  {
   "cell_type": "code",
   "execution_count": 5,
   "metadata": {},
   "outputs": [],
   "source": [
    "import urllib.request\n"
   ]
  },
  {
   "cell_type": "code",
   "execution_count": null,
   "metadata": {},
   "outputs": [],
   "source": []
  }
 ],
 "metadata": {
  "kernelspec": {
   "display_name": "Python 3",
   "language": "python",
   "name": "python3"
  },
  "language_info": {
   "codemirror_mode": {
    "name": "ipython",
    "version": 3
   },
   "file_extension": ".py",
   "mimetype": "text/x-python",
   "name": "python",
   "nbconvert_exporter": "python",
   "pygments_lexer": "ipython3",
   "version": "3.6.5"
  }
 },
 "nbformat": 4,
 "nbformat_minor": 2
}
